{
  "nbformat": 4,
  "nbformat_minor": 0,
  "metadata": {
    "colab": {
      "provenance": []
    },
    "kernelspec": {
      "name": "python3",
      "display_name": "Python 3"
    },
    "language_info": {
      "name": "python"
    }
  },
  "cells": [
    {
      "cell_type": "code",
      "execution_count": 2,
      "metadata": {
        "id": "jhIHe20H7VKS"
      },
      "outputs": [],
      "source": [
        "#Lab9 - Gerardo Garza Sada\n",
        "\n",
        "# Import necessary packages\n",
        "import polars as pl\n",
        "\n"
      ]
    },
    {
      "cell_type": "code",
      "source": [
        "trips = pl.read_csv(\"https://raw.githubusercontent.com/philhetzel/opan5510-class9/refs/heads/main/data/bike_trips.csv\", null_values='NA')\n",
        "weather = pl.read_csv(\"https://raw.githubusercontent.com/philhetzel/opan5510-class9/refs/heads/main/data/bike_weather.csv\", null_values=['NA',''])\n",
        "\n",
        "trips = trips.with_columns(pl.col(\"date\").str.strptime(pl.Date, \"%Y-%m-%d\").alias(\"date\")) # ensure date column is typed correctly\n",
        "weather = weather.with_columns(pl.col(\"date\").str.strptime(pl.Date, \"%Y-%m-%d\").alias(\"date\")) # ensure date column is typed correctly\n",
        "print(trips.height)\n",
        "print(weather.height)"
      ],
      "metadata": {
        "colab": {
          "base_uri": "https://localhost:8080/"
        },
        "id": "2jIMPWJu7yNu",
        "outputId": "ec15a094-5bf2-4454-dbb8-4b0c5c0804e8"
      },
      "execution_count": 3,
      "outputs": [
        {
          "output_type": "stream",
          "name": "stdout",
          "text": [
            "78704\n",
            "733\n"
          ]
        }
      ]
    },
    {
      "cell_type": "code",
      "source": [
        "#Question 1: What was the average duration of trips that occurred in rainy weather?\n",
        "\n",
        "#Part A: Join the trips and weather data frames\n",
        "\n",
        "trips_weather = trips.join(\n",
        "    weather,\n",
        "    on=\"date\",\n",
        "    how=\"inner\"\n",
        ")\n",
        "print(\"Trips with Weather Info:\")\n",
        "print(trips_weather.head())\n",
        "print(f\"\\nRows in trips_weather: {trips_weather.height}\")"
      ],
      "metadata": {
        "colab": {
          "base_uri": "https://localhost:8080/"
        },
        "id": "TE6Z0vV-71pZ",
        "outputId": "53941033-70d7-4160-9dc2-657e07622909"
      },
      "execution_count": 4,
      "outputs": [
        {
          "output_type": "stream",
          "name": "stdout",
          "text": [
            "Trips with Weather Info:\n",
            "shape: (5, 35)\n",
            "┌──────┬──────────┬─────────────┬─────────────┬───┬─────────────┬────────┬────────────┬────────────┐\n",
            "│ id   ┆ duration ┆ start_date  ┆ start_stati ┆ … ┆ cloud_cover ┆ events ┆ wind_dir_d ┆ zip_code_r │\n",
            "│ ---  ┆ ---      ┆ ---         ┆ on_name     ┆   ┆ ---         ┆ ---    ┆ egrees     ┆ ight       │\n",
            "│ i64  ┆ i64      ┆ str         ┆ ---         ┆   ┆ i64         ┆ str    ┆ ---        ┆ ---        │\n",
            "│      ┆          ┆             ┆ str         ┆   ┆             ┆        ┆ i64        ┆ i64        │\n",
            "╞══════╪══════════╪═════════════╪═════════════╪═══╪═════════════╪════════╪════════════╪════════════╡\n",
            "│ 4721 ┆ 3        ┆ 2013-08-29T ┆ Market at   ┆ … ┆ 4           ┆ null   ┆ 286        ┆ 94107      │\n",
            "│      ┆          ┆ 20:27:00Z   ┆ 10th        ┆   ┆             ┆        ┆            ┆            │\n",
            "│ 4812 ┆ 3        ┆ 2013-08-29T ┆ 2nd at      ┆ … ┆ 4           ┆ null   ┆ 286        ┆ 94107      │\n",
            "│      ┆          ┆ 21:30:00Z   ┆ Folsom      ┆   ┆             ┆        ┆            ┆            │\n",
            "│ 4705 ┆ 3        ┆ 2013-08-29T ┆ Golden Gate ┆ … ┆ 4           ┆ null   ┆ 286        ┆ 94107      │\n",
            "│      ┆          ┆ 20:15:00Z   ┆ at Polk     ┆   ┆             ┆        ┆            ┆            │\n",
            "│ 4841 ┆ 3        ┆ 2013-08-29T ┆ University  ┆ … ┆ 4           ┆ null   ┆ 286        ┆ 94107      │\n",
            "│      ┆          ┆ 21:48:00Z   ┆ and Emerson ┆   ┆             ┆        ┆            ┆            │\n",
            "│ 4668 ┆ 4        ┆ 2013-08-29T ┆ San         ┆ … ┆ 4           ┆ null   ┆ 286        ┆ 94107      │\n",
            "│      ┆          ┆ 19:39:00Z   ┆ Francisco   ┆   ┆             ┆        ┆            ┆            │\n",
            "│      ┆          ┆             ┆ Caltrain 2  ┆   ┆             ┆        ┆            ┆            │\n",
            "│      ┆          ┆             ┆ (330 …      ┆   ┆             ┆        ┆            ┆            │\n",
            "└──────┴──────────┴─────────────┴─────────────┴───┴─────────────┴────────┴────────────┴────────────┘\n",
            "\n",
            "Rows in trips_weather: 78704\n"
          ]
        }
      ]
    },
    {
      "cell_type": "code",
      "source": [
        "#Part B: Calculate the average duration of trips in poor weather\n",
        "\n",
        "avg_poor_weather = (\n",
        "    trips_weather\n",
        "    .filter(pl.col(\"events\").is_not_null())\n",
        "    .select(\n",
        "        pl.col(\"duration\").mean().alias(\"avg_duration\")\n",
        "    )\n",
        ")\n",
        "print(\"Average trip duration in poor weather:\")\n",
        "print(avg_poor_weather)"
      ],
      "metadata": {
        "colab": {
          "base_uri": "https://localhost:8080/"
        },
        "id": "_I19v6rx8vWk",
        "outputId": "b309066c-2edb-4bce-d6f8-3e5746463f90"
      },
      "execution_count": 6,
      "outputs": [
        {
          "output_type": "stream",
          "name": "stdout",
          "text": [
            "Average trip duration in poor weather:\n",
            "shape: (1, 1)\n",
            "┌──────────────┐\n",
            "│ avg_duration │\n",
            "│ ---          │\n",
            "│ f64          │\n",
            "╞══════════════╡\n",
            "│ 10.34899     │\n",
            "└──────────────┘\n"
          ]
        }
      ]
    },
    {
      "cell_type": "code",
      "source": [
        "Batting = pl.read_csv(\"https://raw.githubusercontent.com/philhetzel/opan5510-class9/refs/heads/main/data/Batting.csv\", null_values='NA')\n",
        "People = pl.read_csv(\"https://raw.githubusercontent.com/philhetzel/opan5510-class9/refs/heads/main/data/People.csv\", null_values='NA')\n",
        "HallOfFame = pl.read_csv(\"https://raw.githubusercontent.com/philhetzel/opan5510-class9/refs/heads/main/data/HallOfFame.csv\", null_values='NA')"
      ],
      "metadata": {
        "id": "YxFkxVj_APXP"
      },
      "execution_count": 7,
      "outputs": []
    },
    {
      "cell_type": "code",
      "source": [
        "#Question 2: How many home runs (HR) were hit by players born in Florida?\n",
        "\n",
        "#Part A: Join the Batting and People DataFrames together\n",
        "\n",
        "stats_w_bio = Batting.join(\n",
        "    People,\n",
        "    on=\"playerID\",\n",
        "    how=\"inner\"\n",
        ")\n",
        "\n",
        "print(\"Batting stats with biographical info:\")\n",
        "print(stats_w_bio.head())\n",
        "print(f\"\\nRows in stats_w_bio: {stats_w_bio.height}\")"
      ],
      "metadata": {
        "colab": {
          "base_uri": "https://localhost:8080/"
        },
        "id": "29APJsUfAeXx",
        "outputId": "cf2d72f9-d9b2-460c-cfcd-aad576f8ca37"
      },
      "execution_count": 8,
      "outputs": [
        {
          "output_type": "stream",
          "name": "stdout",
          "text": [
            "Batting stats with biographical info:\n",
            "shape: (5, 47)\n",
            "┌───────────┬────────┬───────┬────────┬───┬──────────┬───────────┬────────────┬────────────┐\n",
            "│ playerID  ┆ yearID ┆ stint ┆ teamID ┆ … ┆ retroID  ┆ bbrefID   ┆ deathDate  ┆ birthDate  │\n",
            "│ ---       ┆ ---    ┆ ---   ┆ ---    ┆   ┆ ---      ┆ ---       ┆ ---        ┆ ---        │\n",
            "│ str       ┆ i64    ┆ i64   ┆ str    ┆   ┆ str      ┆ str       ┆ str        ┆ str        │\n",
            "╞═══════════╪════════╪═══════╪════════╪═══╪══════════╪═══════════╪════════════╪════════════╡\n",
            "│ abercda01 ┆ 1871   ┆ 1     ┆ TRO    ┆ … ┆ aberd101 ┆ abercda01 ┆ 1939-11-11 ┆ 1850-01-02 │\n",
            "│ addybo01  ┆ 1871   ┆ 1     ┆ RC1    ┆ … ┆ addyb101 ┆ addybo01  ┆ 1910-04-09 ┆ null       │\n",
            "│ allisar01 ┆ 1871   ┆ 1     ┆ CL1    ┆ … ┆ allia101 ┆ allisar01 ┆ 1916-02-25 ┆ 1849-01-29 │\n",
            "│ allisdo01 ┆ 1871   ┆ 1     ┆ WS3    ┆ … ┆ allid101 ┆ allisdo01 ┆ 1916-12-19 ┆ 1846-07-12 │\n",
            "│ ansonca01 ┆ 1871   ┆ 1     ┆ RC1    ┆ … ┆ ansoc101 ┆ ansonca01 ┆ 1922-04-14 ┆ 1852-04-17 │\n",
            "└───────────┴────────┴───────┴────────┴───┴──────────┴───────────┴────────────┴────────────┘\n",
            "\n",
            "Rows in stats_w_bio: 112184\n"
          ]
        }
      ]
    },
    {
      "cell_type": "code",
      "source": [
        "#Part B: Calculate the total number of home runs hit by Florida-born players\n",
        "\n",
        "florida_hr = (\n",
        "    stats_w_bio\n",
        "      .filter(pl.col(\"birthState\") == \"FL\")\n",
        "      .select(pl.col(\"HR\").sum().alias(\"total_hr\"))\n",
        ")\n",
        "\n",
        "print(\"Total Home Runs by Florida-born players:\")\n",
        "print(florida_hr)"
      ],
      "metadata": {
        "colab": {
          "base_uri": "https://localhost:8080/"
        },
        "id": "4hI8slWXBoPI",
        "outputId": "614b1f26-4ded-43b5-82cf-50aee82f59c5"
      },
      "execution_count": 10,
      "outputs": [
        {
          "output_type": "stream",
          "name": "stdout",
          "text": [
            "Total Home Runs by Florida-born players:\n",
            "shape: (1, 1)\n",
            "┌──────────┐\n",
            "│ total_hr │\n",
            "│ ---      │\n",
            "│ i64      │\n",
            "╞══════════╡\n",
            "│ 16225    │\n",
            "└──────────┘\n"
          ]
        }
      ]
    },
    {
      "cell_type": "code",
      "source": [
        "#Question 3: What are the average number of career Hits (H) for Hall of Fame baseball players?\n",
        "\n",
        "#Part A: Clean the HallOfFame DataFrame.\n",
        "\n",
        "hall_inducted = (\n",
        "    HallOfFame\n",
        "      .filter( (pl.col(\"inducted\") == \"Y\") & (pl.col(\"category\") == \"Player\") )\n",
        "      .select(\"playerID\")\n",
        "      .unique()\n",
        ")\n",
        "print(\"Hall of Fame inducted players (unique IDs):\")\n",
        "print(hall_inducted.head())\n",
        "print(f\"Total number of Hall of Fame players: {hall_inducted.height}\")"
      ],
      "metadata": {
        "colab": {
          "base_uri": "https://localhost:8080/"
        },
        "id": "h0voEbGqCdBz",
        "outputId": "5c4f5b22-4285-41d0-c5b6-cd591aa1645f"
      },
      "execution_count": 11,
      "outputs": [
        {
          "output_type": "stream",
          "name": "stdout",
          "text": [
            "Hall of Fame inducted players (unique IDs):\n",
            "shape: (5, 1)\n",
            "┌───────────┐\n",
            "│ playerID  │\n",
            "│ ---       │\n",
            "│ str       │\n",
            "╞═══════════╡\n",
            "│ morrija02 │\n",
            "│ seaveto01 │\n",
            "│ puckeki01 │\n",
            "│ guerrvl01 │\n",
            "│ suttlmu99 │\n",
            "└───────────┘\n",
            "Total number of Hall of Fame players: 270\n"
          ]
        }
      ]
    },
    {
      "cell_type": "code",
      "source": [
        "#Part B: Find the average number of career hits across Hall of Fame players\n",
        "\n",
        "hof_hits = (\n",
        "    Batting\n",
        "    .join(hall_inducted, on=\"playerID\", how=\"inner\")\n",
        "    .group_by(\"playerID\")\n",
        "    .agg(pl.col(\"H\").sum().alias(\"career_hits\"))\n",
        "    .select(pl.col(\"career_hits\").mean().alias(\"average_hits\"))\n",
        ")\n",
        "\n",
        "print(\"Average number of career hits across Hall of Fame players:\")\n",
        "print(hof_hits)"
      ],
      "metadata": {
        "colab": {
          "base_uri": "https://localhost:8080/"
        },
        "id": "Vj6W4IypDY6j",
        "outputId": "bfdf20c4-b1ed-40fa-efff-5700b09e0d13"
      },
      "execution_count": 13,
      "outputs": [
        {
          "output_type": "stream",
          "name": "stdout",
          "text": [
            "Average number of career hits across Hall of Fame players:\n",
            "shape: (1, 1)\n",
            "┌──────────────┐\n",
            "│ average_hits │\n",
            "│ ---          │\n",
            "│ f64          │\n",
            "╞══════════════╡\n",
            "│ 1717.29918   │\n",
            "└──────────────┘\n"
          ]
        }
      ]
    }
  ]
}